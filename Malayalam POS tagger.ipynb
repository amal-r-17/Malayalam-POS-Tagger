{
 "cells": [
  {
   "cell_type": "markdown",
   "metadata": {},
   "source": [
    "# POS tagger for Malayalam text \n",
    "\n",
    "\n"
   ]
  },
  {
   "cell_type": "markdown",
   "metadata": {},
   "source": [
    "\n",
    "1. Data is extracted from Github.\n",
    "1. Its is loaded on to a Pandas dataframe\n",
    "1. The data is then cleaned, includes removing null values and unneccesary columns and giving the columns names.\n",
    "1. Creating a function to prepare the data to be given to the model. It creates a list of tuples.\n",
    "1. Model is imported from library. Here we are using Perceptron tagger.\n",
    "1. Model is trained and evaluated with testing data. Accuracy is obtained.\n",
    "1. Model is tested on some real world data.\n"
   ]
  },
  {
   "cell_type": "code",
   "execution_count": 2,
   "metadata": {},
   "outputs": [],
   "source": [
    "import numpy as np\n",
    "import pandas as pd\n"
   ]
  },
  {
   "cell_type": "markdown",
   "metadata": {},
   "source": [
    "# Extracting the data"
   ]
  },
  {
   "cell_type": "markdown",
   "metadata": {},
   "source": [
    "Data Extrated From the following link\n",
    "*https://raw.githubusercontent.com/akhilkishore/Malayalam-Pos-Tagger/master/Malayalam_Tagged_Data.txt*"
   ]
  },
  {
   "cell_type": "code",
   "execution_count": 3,
   "metadata": {},
   "outputs": [],
   "source": [
    "df = pd.read_csv(r\"https://raw.githubusercontent.com/akhilkishore/Malayalam-Pos-Tagger/master/Malayalam_Tagged_Data.txt\", sep=\" \",header=None)"
   ]
  },
  {
   "cell_type": "code",
   "execution_count": 4,
   "metadata": {},
   "outputs": [
    {
     "data": {
      "text/html": [
       "<div>\n",
       "<style scoped>\n",
       "    .dataframe tbody tr th:only-of-type {\n",
       "        vertical-align: middle;\n",
       "    }\n",
       "\n",
       "    .dataframe tbody tr th {\n",
       "        vertical-align: top;\n",
       "    }\n",
       "\n",
       "    .dataframe thead th {\n",
       "        text-align: right;\n",
       "    }\n",
       "</style>\n",
       "<table border=\"1\" class=\"dataframe\">\n",
       "  <thead>\n",
       "    <tr style=\"text-align: right;\">\n",
       "      <th></th>\n",
       "      <th>0</th>\n",
       "      <th>1</th>\n",
       "      <th>2</th>\n",
       "      <th>3</th>\n",
       "      <th>4</th>\n",
       "      <th>5</th>\n",
       "      <th>6</th>\n",
       "      <th>7</th>\n",
       "      <th>8</th>\n",
       "    </tr>\n",
       "  </thead>\n",
       "  <tbody>\n",
       "    <tr>\n",
       "      <th>0</th>\n",
       "      <td>മഹാത്മാഗാന്ധി</td>\n",
       "      <td>NaN</td>\n",
       "      <td>NaN</td>\n",
       "      <td>NaN</td>\n",
       "      <td>NaN</td>\n",
       "      <td>NaN</td>\n",
       "      <td>NaN</td>\n",
       "      <td>NaN</td>\n",
       "      <td>\\N_NNP</td>\n",
       "    </tr>\n",
       "    <tr>\n",
       "      <th>1</th>\n",
       "      <td>രാഷ്ട്രപിതാവ്</td>\n",
       "      <td>NaN</td>\n",
       "      <td>NaN</td>\n",
       "      <td>NaN</td>\n",
       "      <td>NaN</td>\n",
       "      <td>NaN</td>\n",
       "      <td>NaN</td>\n",
       "      <td>NaN</td>\n",
       "      <td>\\N_NN</td>\n",
       "    </tr>\n",
       "    <tr>\n",
       "      <th>2</th>\n",
       "      <td>ലക്ഷ്യങ്ങളെല്ലാം</td>\n",
       "      <td>NaN</td>\n",
       "      <td>NaN</td>\n",
       "      <td>NaN</td>\n",
       "      <td>NaN</td>\n",
       "      <td>NaN</td>\n",
       "      <td>NaN</td>\n",
       "      <td>NaN</td>\n",
       "      <td>\\N_NN</td>\n",
       "    </tr>\n",
       "    <tr>\n",
       "      <th>3</th>\n",
       "      <td>കര്‍്മ്മഫലത്തിലെത്തിച്ച</td>\n",
       "      <td>NaN</td>\n",
       "      <td>NaN</td>\n",
       "      <td>NaN</td>\n",
       "      <td>NaN</td>\n",
       "      <td>NaN</td>\n",
       "      <td>NaN</td>\n",
       "      <td>NaN</td>\n",
       "      <td>\\V_VM_VNF</td>\n",
       "    </tr>\n",
       "    <tr>\n",
       "      <th>4</th>\n",
       "      <td>മഹാൻ</td>\n",
       "      <td>NaN</td>\n",
       "      <td>NaN</td>\n",
       "      <td>NaN</td>\n",
       "      <td>NaN</td>\n",
       "      <td>NaN</td>\n",
       "      <td>NaN</td>\n",
       "      <td>NaN</td>\n",
       "      <td>\\N_NN</td>\n",
       "    </tr>\n",
       "  </tbody>\n",
       "</table>\n",
       "</div>"
      ],
      "text/plain": [
       "                         0   1   2   3   4   5   6   7          8\n",
       "0            മഹാത്മാഗാന്ധി NaN NaN NaN NaN NaN NaN NaN     \\N_NNP\n",
       "1            രാഷ്ട്രപിതാവ് NaN NaN NaN NaN NaN NaN NaN      \\N_NN\n",
       "2         ലക്ഷ്യങ്ങളെല്ലാം NaN NaN NaN NaN NaN NaN NaN      \\N_NN\n",
       "3  കര്‍്മ്മഫലത്തിലെത്തിച്ച NaN NaN NaN NaN NaN NaN NaN  \\V_VM_VNF\n",
       "4                     മഹാൻ NaN NaN NaN NaN NaN NaN NaN      \\N_NN"
      ]
     },
     "execution_count": 4,
     "metadata": {},
     "output_type": "execute_result"
    }
   ],
   "source": [
    "df.head()"
   ]
  },
  {
   "cell_type": "markdown",
   "metadata": {},
   "source": [
    "# Cleaning the data"
   ]
  },
  {
   "cell_type": "code",
   "execution_count": 5,
   "metadata": {},
   "outputs": [],
   "source": [
    "df.drop([1,2,3,4,5,6,7], axis = 1,inplace = True)\n",
    "df.columns = [\"Word\",\"Tag\"]"
   ]
  },
  {
   "cell_type": "code",
   "execution_count": 6,
   "metadata": {},
   "outputs": [
    {
     "data": {
      "text/html": [
       "<div>\n",
       "<style scoped>\n",
       "    .dataframe tbody tr th:only-of-type {\n",
       "        vertical-align: middle;\n",
       "    }\n",
       "\n",
       "    .dataframe tbody tr th {\n",
       "        vertical-align: top;\n",
       "    }\n",
       "\n",
       "    .dataframe thead th {\n",
       "        text-align: right;\n",
       "    }\n",
       "</style>\n",
       "<table border=\"1\" class=\"dataframe\">\n",
       "  <thead>\n",
       "    <tr style=\"text-align: right;\">\n",
       "      <th></th>\n",
       "      <th>Word</th>\n",
       "      <th>Tag</th>\n",
       "    </tr>\n",
       "  </thead>\n",
       "  <tbody>\n",
       "    <tr>\n",
       "      <th>0</th>\n",
       "      <td>മഹാത്മാഗാന്ധി</td>\n",
       "      <td>\\N_NNP</td>\n",
       "    </tr>\n",
       "    <tr>\n",
       "      <th>1</th>\n",
       "      <td>രാഷ്ട്രപിതാവ്</td>\n",
       "      <td>\\N_NN</td>\n",
       "    </tr>\n",
       "    <tr>\n",
       "      <th>2</th>\n",
       "      <td>ലക്ഷ്യങ്ങളെല്ലാം</td>\n",
       "      <td>\\N_NN</td>\n",
       "    </tr>\n",
       "    <tr>\n",
       "      <th>3</th>\n",
       "      <td>കര്‍്മ്മഫലത്തിലെത്തിച്ച</td>\n",
       "      <td>\\V_VM_VNF</td>\n",
       "    </tr>\n",
       "    <tr>\n",
       "      <th>4</th>\n",
       "      <td>മഹാൻ</td>\n",
       "      <td>\\N_NN</td>\n",
       "    </tr>\n",
       "  </tbody>\n",
       "</table>\n",
       "</div>"
      ],
      "text/plain": [
       "                      Word        Tag\n",
       "0            മഹാത്മാഗാന്ധി     \\N_NNP\n",
       "1            രാഷ്ട്രപിതാവ്      \\N_NN\n",
       "2         ലക്ഷ്യങ്ങളെല്ലാം      \\N_NN\n",
       "3  കര്‍്മ്മഫലത്തിലെത്തിച്ച  \\V_VM_VNF\n",
       "4                     മഹാൻ      \\N_NN"
      ]
     },
     "execution_count": 6,
     "metadata": {},
     "output_type": "execute_result"
    }
   ],
   "source": [
    "df.head()"
   ]
  },
  {
   "cell_type": "markdown",
   "metadata": {},
   "source": [
    "## Handling for Null values"
   ]
  },
  {
   "cell_type": "code",
   "execution_count": 7,
   "metadata": {},
   "outputs": [
    {
     "data": {
      "text/plain": [
       "Word    1\n",
       "Tag     0\n",
       "dtype: int64"
      ]
     },
     "execution_count": 7,
     "metadata": {},
     "output_type": "execute_result"
    }
   ],
   "source": [
    "df.isna().sum()"
   ]
  },
  {
   "cell_type": "code",
   "execution_count": 8,
   "metadata": {},
   "outputs": [],
   "source": [
    "# Dropping null values\n",
    "df.dropna(inplace=True)"
   ]
  },
  {
   "cell_type": "code",
   "execution_count": 9,
   "metadata": {},
   "outputs": [
    {
     "data": {
      "text/plain": [
       "(266067, 2)"
      ]
     },
     "execution_count": 9,
     "metadata": {},
     "output_type": "execute_result"
    }
   ],
   "source": [
    "# viewing the shape of data\n",
    "df.shape"
   ]
  },
  {
   "cell_type": "markdown",
   "metadata": {},
   "source": [
    "# Preparing data from Model"
   ]
  },
  {
   "cell_type": "markdown",
   "metadata": {},
   "source": [
    "#### This function takes in the dataframe and gives a list of tuples, where the first element of the word and the second element is the tag."
   ]
  },
  {
   "cell_type": "code",
   "execution_count": 10,
   "metadata": {},
   "outputs": [],
   "source": [
    "def create_sentences(df):\n",
    "    sents = []\n",
    "    for i,j in zip(df[\"Word\"],df[\"Tag\"]):\n",
    "        sents.append((i,j.strip(\"\\\\\")))\n",
    "    return sents "
   ]
  },
  {
   "cell_type": "markdown",
   "metadata": {},
   "source": [
    "## Creating the training dataset"
   ]
  },
  {
   "cell_type": "code",
   "execution_count": 11,
   "metadata": {},
   "outputs": [],
   "source": [
    "# We are using 200000 datapoints from the dataset to craete the training dataset\n",
    "sents = create_sentences(df.iloc[:200000])"
   ]
  },
  {
   "cell_type": "code",
   "execution_count": 12,
   "metadata": {},
   "outputs": [
    {
     "data": {
      "text/plain": [
       "[('മഹാത്മാഗാന്ധി', 'N_NNP'),\n",
       " ('രാഷ്ട്രപിതാവ്', 'N_NN'),\n",
       " ('ലക്ഷ്യങ്ങളെല്ലാം', 'N_NN'),\n",
       " ('കര്\\u200d്മ്മഫലത്തിലെത്തിച്ച', 'V_VM_VNF'),\n",
       " ('മഹാൻ', 'N_NN'),\n",
       " ('.', 'RD_PUNC'),\n",
       " ('ജീവിതത്തിന്\\u200dറെ', 'N_NN'),\n",
       " ('എല്ലാ', 'QT_QTF'),\n",
       " ('മേഖലകളെയും', 'N_NN'),\n",
       " ('സമഗ്രമായി', 'RB')]"
      ]
     },
     "execution_count": 12,
     "metadata": {},
     "output_type": "execute_result"
    }
   ],
   "source": [
    "# viewing the data\n",
    "sents[:10]"
   ]
  },
  {
   "cell_type": "code",
   "execution_count": 13,
   "metadata": {},
   "outputs": [],
   "source": [
    "# importing the model to be used\n",
    "from nltk import word_tokenize\n",
    "from nltk.tag import perceptron"
   ]
  },
  {
   "cell_type": "markdown",
   "metadata": {},
   "source": [
    "# Creating, Training and Testing Model"
   ]
  },
  {
   "cell_type": "code",
   "execution_count": 14,
   "metadata": {},
   "outputs": [
    {
     "name": "stdout",
     "output_type": "stream",
     "text": [
      "Accuracy of perceptron Tag 0.8685\n"
     ]
    }
   ],
   "source": [
    "tagger = perceptron.PerceptronTagger(load=False) \n",
    "# training \n",
    "tagger.train([sents]) \n",
    "# evaluating\n",
    "acc = tagger.evaluate([create_sentences(df.iloc[200000:210000])]) #data for testing \n",
    "print (\"Accuracy of perceptron Tag\",acc)"
   ]
  },
  {
   "cell_type": "markdown",
   "metadata": {},
   "source": [
    "# Testing with examples"
   ]
  },
  {
   "cell_type": "code",
   "execution_count": 15,
   "metadata": {},
   "outputs": [
    {
     "data": {
      "text/plain": [
       "[('എല്ലാ', 'QT_QTF'),\n",
       " ('ദിവസവും', 'N_NN'),\n",
       " ('രാവിലെ', 'N_NN'),\n",
       " ('എട്ടു', 'QT_QTO'),\n",
       " ('മണിക്', 'N_NN'),\n",
       " ('ഞാൻ', 'N_NN'),\n",
       " ('ചായ', 'N_NN'),\n",
       " ('കുടിക്കും', 'V_VM_VF'),\n",
       " ('.', 'RD_PUNC')]"
      ]
     },
     "execution_count": 15,
     "metadata": {},
     "output_type": "execute_result"
    }
   ],
   "source": [
    "tagger.tag(['എല്ലാ','ദിവസവും','രാവിലെ','എട്ടു','മണിക്','ഞാൻ','ചായ','കുടിക്കും','.'])"
   ]
  },
  {
   "cell_type": "code",
   "execution_count": 16,
   "metadata": {},
   "outputs": [
    {
     "name": "stdout",
     "output_type": "stream",
     "text": [
      "രാജ്യത്തെ കൊവിഡ് മരണസംഖ്യയിൽ പന്ത്രണ്ടാഴ്ചകൾക്ക് ശേഷം കുറവ് രേഖപ്പെടുത്തി\n"
     ]
    },
    {
     "data": {
      "text/plain": [
       "[('രാജ്യത്തെ', 'N_NN'),\n",
       " ('കൊവിഡ്', 'N_NN'),\n",
       " ('മരണസംഖ്യയിൽ', 'N_NN'),\n",
       " ('പന്ത്രണ്ടാഴ്ചകൾക്ക്', 'N_NN'),\n",
       " ('ശേഷം', 'PSP'),\n",
       " ('കുറവ്', 'N_NN'),\n",
       " ('രേഖപ്പെടുത്തി', 'V_VM_VNF')]"
      ]
     },
     "execution_count": 16,
     "metadata": {},
     "output_type": "execute_result"
    }
   ],
   "source": [
    "tagger.tag(input().split())"
   ]
  },
  {
   "cell_type": "code",
   "execution_count": 17,
   "metadata": {},
   "outputs": [
    {
     "name": "stdout",
     "output_type": "stream",
     "text": [
      "രാഷ്ട്രീയ പകപോക്കൽ അവസാനിപ്പിക്കണം, ഭരിക്കാൻ അനുവദിക്കണം,കാല് പിടിക്കാമെന്ന് മമത\n"
     ]
    },
    {
     "data": {
      "text/plain": [
       "[('രാഷ്ട്രീയ', 'JJ'),\n",
       " ('പകപോക്കൽ', 'N_NN'),\n",
       " ('അവസാനിപ്പിക്കണം,', 'N_NN'),\n",
       " ('ഭരിക്കാൻ', 'N_NN'),\n",
       " ('അനുവദിക്കണം,കാല്', 'N_NN'),\n",
       " ('പിടിക്കാമെന്ന്', 'V_VM_VNF'),\n",
       " ('മമത', 'N_NN')]"
      ]
     },
     "execution_count": 17,
     "metadata": {},
     "output_type": "execute_result"
    }
   ],
   "source": [
    "tagger.tag(input().split())"
   ]
  },
  {
   "cell_type": "code",
   "execution_count": null,
   "metadata": {},
   "outputs": [],
   "source": []
  }
 ],
 "metadata": {
  "kernelspec": {
   "display_name": "Python 3",
   "language": "python",
   "name": "python3"
  },
  "language_info": {
   "codemirror_mode": {
    "name": "ipython",
    "version": 3
   },
   "file_extension": ".py",
   "mimetype": "text/x-python",
   "name": "python",
   "nbconvert_exporter": "python",
   "pygments_lexer": "ipython3",
   "version": "3.8.3"
  }
 },
 "nbformat": 4,
 "nbformat_minor": 4
}
